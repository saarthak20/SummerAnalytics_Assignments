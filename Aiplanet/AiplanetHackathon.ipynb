{
 "cells": [
  {
   "cell_type": "code",
   "execution_count": 1,
   "id": "bb352755",
   "metadata": {
    "_cell_guid": "b1076dfc-b9ad-4769-8c92-a6c4dae69d19",
    "_uuid": "8f2839f25d086af736a60e9eeb907d3b93b6e0e5",
    "execution": {
     "iopub.execute_input": "2025-06-30T07:30:23.854065Z",
     "iopub.status.busy": "2025-06-30T07:30:23.853759Z",
     "iopub.status.idle": "2025-06-30T07:30:33.827789Z",
     "shell.execute_reply": "2025-06-30T07:30:33.826660Z"
    },
    "papermill": {
     "duration": 9.979517,
     "end_time": "2025-06-30T07:30:33.829401",
     "exception": false,
     "start_time": "2025-06-30T07:30:23.849884",
     "status": "completed"
    },
    "tags": []
   },
   "outputs": [
    {
     "name": "stdout",
     "output_type": "stream",
     "text": [
      "/kaggle/input/aiplanet/Train_Data.csv\n",
      "/kaggle/input/aiplanet/Test_Data.csv\n",
      "/kaggle/input/okokok/Sample_Submission.csv\n"
     ]
    }
   ],
   "source": [
    "# This Python 3 environment comes with many helpful analytics libraries installed\n",
    "# It is defined by the kaggle/python Docker image: https://github.com/kaggle/docker-python\n",
    "# For example, here's several helpful packages to load\n",
    "#!pip install --force-reinstall -U scikit-learn imbalanced-learn --quiet\n",
    "\n",
    "\n",
    "\n",
    "import numpy as np # linear algebra\n",
    "import pandas as pd # data processing, CSV file I/O (e.g. pd.read_csv)\n",
    "from sklearn.impute import SimpleImputer\n",
    "from sklearn.model_selection import StratifiedKFold, cross_val_score\n",
    "from sklearn.metrics import f1_score, make_scorer\n",
    "from xgboost import XGBClassifier\n",
    "from lightgbm import LGBMClassifier\n",
    "from catboost import CatBoostClassifier\n",
    "\n",
    "\n",
    "# Input data files are available in the read-only \"../input/\" directory\n",
    "# For example, running this (by clicking run or pressing Shift+Enter) will list all files under the input directory\n",
    "\n",
    "import os\n",
    "for dirname, _, filenames in os.walk('/kaggle/input'):\n",
    "    for filename in filenames:\n",
    "        print(os.path.join(dirname, filename))\n",
    "\n",
    "# You can write up to 20GB to the current directory (/kaggle/working/) that gets preserved as output when you create a version using \"Save & Run All\" \n",
    "# You can also write temporary files to /kaggle/temp/, but they won't be saved outside of the current session"
   ]
  },
  {
   "cell_type": "code",
   "execution_count": 2,
   "id": "c213e394",
   "metadata": {
    "execution": {
     "iopub.execute_input": "2025-06-30T07:30:33.836463Z",
     "iopub.status.busy": "2025-06-30T07:30:33.835490Z",
     "iopub.status.idle": "2025-06-30T07:30:33.887366Z",
     "shell.execute_reply": "2025-06-30T07:30:33.886557Z"
    },
    "papermill": {
     "duration": 0.056939,
     "end_time": "2025-06-30T07:30:33.889048",
     "exception": false,
     "start_time": "2025-06-30T07:30:33.832109",
     "status": "completed"
    },
    "tags": []
   },
   "outputs": [],
   "source": [
    "# Load data\n",
    "train = pd.read_csv(\"/kaggle/input/aiplanet/Train_Data.csv\")\n",
    "test = pd.read_csv(\"/kaggle/input/aiplanet/Test_Data.csv\")\n",
    "\n",
    "# Filter target rows\n",
    "train = train[train['age_group'].isin(['Adult', 'Senior'])]\n",
    "y = train['age_group'].map({'Adult': 0, 'Senior': 1})\n",
    "X = train.drop(columns=['SEQN', 'age_group'])\n",
    "\n",
    "# Save SEQN for submission\n",
    "test_seqn = test['SEQN']\n",
    "X_test = test.drop(columns=['SEQN'])\n",
    "\n",
    "# Impute missing values using median\n",
    "imputer = SimpleImputer(strategy='median')\n",
    "X = pd.DataFrame(imputer.fit_transform(X), columns=X.columns)\n",
    "X_test = pd.DataFrame(imputer.transform(X_test), columns=X_test.columns)"
   ]
  },
  {
   "cell_type": "code",
   "execution_count": 3,
   "id": "d95425cb",
   "metadata": {
    "execution": {
     "iopub.execute_input": "2025-06-30T07:30:33.894591Z",
     "iopub.status.busy": "2025-06-30T07:30:33.894256Z",
     "iopub.status.idle": "2025-06-30T07:30:33.911368Z",
     "shell.execute_reply": "2025-06-30T07:30:33.910595Z"
    },
    "papermill": {
     "duration": 0.021634,
     "end_time": "2025-06-30T07:30:33.912916",
     "exception": false,
     "start_time": "2025-06-30T07:30:33.891282",
     "status": "completed"
    },
    "tags": []
   },
   "outputs": [],
   "source": [
    "# Create glucose-insulin ratio\n",
    "X['glucose_insulin_ratio'] = X['LBXGLU'] / (X['LBXIN'] + 1)\n",
    "X_test['glucose_insulin_ratio'] = X_test['LBXGLU'] / (X_test['LBXIN'] + 1)\n",
    "\n",
    "# BMI class bins\n",
    "X['bmi_class'] = pd.cut(X['BMXBMI'], bins=[0, 18.5, 25, 30, 100], labels=[0, 1, 2, 3])\n",
    "X_test['bmi_class'] = pd.cut(X_test['BMXBMI'], bins=[0, 18.5, 25, 30, 100], labels=[0, 1, 2, 3])\n",
    "\n",
    "# Fill new categorical bmi_class\n",
    "X['bmi_class'] = X['bmi_class'].astype(float)\n",
    "X_test['bmi_class'] = X_test['bmi_class'].astype(float)\n",
    "\n",
    "ratio = (y == 0).sum() / (y == 1).sum()\n"
   ]
  },
  {
   "cell_type": "code",
   "execution_count": 4,
   "id": "155fa8cf",
   "metadata": {
    "execution": {
     "iopub.execute_input": "2025-06-30T07:30:33.918349Z",
     "iopub.status.busy": "2025-06-30T07:30:33.918056Z",
     "iopub.status.idle": "2025-06-30T07:30:44.163925Z",
     "shell.execute_reply": "2025-06-30T07:30:44.162789Z"
    },
    "papermill": {
     "duration": 10.250322,
     "end_time": "2025-06-30T07:30:44.165444",
     "exception": false,
     "start_time": "2025-06-30T07:30:33.915122",
     "status": "completed"
    },
    "tags": []
   },
   "outputs": [
    {
     "name": "stdout",
     "output_type": "stream",
     "text": [
      "\n",
      "📊 Model Evaluation:\n",
      "XGBoost: Mean F1 = 0.2844\n",
      "[LightGBM] [Info] Number of positive: 251, number of negative: 1310\n",
      "[LightGBM] [Info] Auto-choosing row-wise multi-threading, the overhead of testing was 0.003255 seconds.\n",
      "You can set `force_row_wise=true` to remove the overhead.\n",
      "And if memory is not enough, you can set `force_col_wise=true`.\n",
      "[LightGBM] [Info] Total Bins 1002\n",
      "[LightGBM] [Info] Number of data points in the train set: 1561, number of used features: 9\n",
      "[LightGBM] [Info] [binary:BoostFromScore]: pavg=0.500000 -> initscore=-0.000000\n",
      "[LightGBM] [Info] Start training from score -0.000000\n",
      "[LightGBM] [Info] Number of positive: 251, number of negative: 1310\n",
      "[LightGBM] [Info] Auto-choosing row-wise multi-threading, the overhead of testing was 0.000100 seconds.\n",
      "You can set `force_row_wise=true` to remove the overhead.\n",
      "And if memory is not enough, you can set `force_col_wise=true`.\n",
      "[LightGBM] [Info] Total Bins 1006\n",
      "[LightGBM] [Info] Number of data points in the train set: 1561, number of used features: 9\n",
      "[LightGBM] [Info] [binary:BoostFromScore]: pavg=0.500000 -> initscore=-0.000000\n",
      "[LightGBM] [Info] Start training from score -0.000000\n",
      "[LightGBM] [Info] Number of positive: 252, number of negative: 1310\n",
      "[LightGBM] [Info] Auto-choosing col-wise multi-threading, the overhead of testing was 0.000156 seconds.\n",
      "You can set `force_col_wise=true` to remove the overhead.\n",
      "[LightGBM] [Info] Total Bins 1001\n",
      "[LightGBM] [Info] Number of data points in the train set: 1562, number of used features: 9\n",
      "[LightGBM] [Info] [binary:BoostFromScore]: pavg=0.500000 -> initscore=0.000000\n",
      "[LightGBM] [Info] Start training from score 0.000000\n",
      "[LightGBM] [Info] Number of positive: 251, number of negative: 1311\n",
      "[LightGBM] [Info] Auto-choosing row-wise multi-threading, the overhead of testing was 0.000101 seconds.\n",
      "You can set `force_row_wise=true` to remove the overhead.\n",
      "And if memory is not enough, you can set `force_col_wise=true`.\n",
      "[LightGBM] [Info] Total Bins 1007\n",
      "[LightGBM] [Info] Number of data points in the train set: 1562, number of used features: 9\n",
      "[LightGBM] [Info] [binary:BoostFromScore]: pavg=0.500000 -> initscore=-0.000000\n",
      "[LightGBM] [Info] Start training from score -0.000000\n",
      "[LightGBM] [Info] Number of positive: 251, number of negative: 1311\n",
      "[LightGBM] [Info] Auto-choosing row-wise multi-threading, the overhead of testing was 0.000129 seconds.\n",
      "You can set `force_row_wise=true` to remove the overhead.\n",
      "And if memory is not enough, you can set `force_col_wise=true`.\n",
      "[LightGBM] [Info] Total Bins 1005\n",
      "[LightGBM] [Info] Number of data points in the train set: 1562, number of used features: 9\n",
      "[LightGBM] [Info] [binary:BoostFromScore]: pavg=0.500000 -> initscore=-0.000000\n",
      "[LightGBM] [Info] Start training from score -0.000000\n",
      "LightGBM: Mean F1 = 0.3641\n",
      "CatBoost: Mean F1 = 0.3911\n"
     ]
    }
   ],
   "source": [
    "models = {\n",
    "    \"XGBoost\": XGBClassifier(use_label_encoder=False, eval_metric='logloss', scale_pos_weight=ratio, random_state=42),\n",
    "    \"LightGBM\": LGBMClassifier(class_weight='balanced', random_state=42),\n",
    "    \"CatBoost\": CatBoostClassifier(verbose=0, random_state=42, scale_pos_weight=ratio)\n",
    "}\n",
    "\n",
    "# Evaluate with Stratified K-Fold CV\n",
    "cv = StratifiedKFold(n_splits=5, shuffle=True, random_state=42)\n",
    "f1 = make_scorer(f1_score)\n",
    "\n",
    "print(\"\\n📊 Model Evaluation:\")\n",
    "results = {}\n",
    "for name, model in models.items():\n",
    "    score = cross_val_score(model, X, y, scoring=f1, cv=cv)\n",
    "    print(f\"{name}: Mean F1 = {score.mean():.4f}\")\n",
    "    results[name] = score.mean()\n",
    "\n"
   ]
  },
  {
   "cell_type": "code",
   "execution_count": 5,
   "id": "66d4197a",
   "metadata": {
    "execution": {
     "iopub.execute_input": "2025-06-30T07:30:44.171516Z",
     "iopub.status.busy": "2025-06-30T07:30:44.171204Z",
     "iopub.status.idle": "2025-06-30T07:30:46.158591Z",
     "shell.execute_reply": "2025-06-30T07:30:46.157493Z"
    },
    "papermill": {
     "duration": 1.992247,
     "end_time": "2025-06-30T07:30:46.160202",
     "exception": false,
     "start_time": "2025-06-30T07:30:44.167955",
     "status": "completed"
    },
    "tags": []
   },
   "outputs": [
    {
     "name": "stdout",
     "output_type": "stream",
     "text": [
      "\n",
      "✅ submission.csv created using CatBoost.\n"
     ]
    }
   ],
   "source": [
    "# Train best model on full data\n",
    "best_model_name = max(results, key=results.get)\n",
    "final_model = models[best_model_name]\n",
    "final_model.fit(X, y)\n",
    "\n",
    "# Predict on test\n",
    "preds = final_model.predict(X_test)\n",
    "\n",
    "# Save submission\n",
    "submission = pd.DataFrame({'age_group': preds})\n",
    "submission.to_csv(\"submission.csv\", index=False)\n",
    "print(f\"\\n✅ submission.csv created using {best_model_name}.\")\n"
   ]
  }
 ],
 "metadata": {
  "kaggle": {
   "accelerator": "none",
   "dataSources": [
    {
     "datasetId": 7732613,
     "sourceId": 12270749,
     "sourceType": "datasetVersion"
    },
    {
     "datasetId": 7732970,
     "sourceId": 12271260,
     "sourceType": "datasetVersion"
    },
    {
     "sourceId": 247157578,
     "sourceType": "kernelVersion"
    }
   ],
   "dockerImageVersionId": 31040,
   "isGpuEnabled": false,
   "isInternetEnabled": true,
   "language": "python",
   "sourceType": "notebook"
  },
  "kernelspec": {
   "display_name": "Python 3",
   "language": "python",
   "name": "python3"
  },
  "language_info": {
   "codemirror_mode": {
    "name": "ipython",
    "version": 3
   },
   "file_extension": ".py",
   "mimetype": "text/x-python",
   "name": "python",
   "nbconvert_exporter": "python",
   "pygments_lexer": "ipython3",
   "version": "3.11.11"
  },
  "papermill": {
   "default_parameters": {},
   "duration": 28.201647,
   "end_time": "2025-06-30T07:30:47.183511",
   "environment_variables": {},
   "exception": null,
   "input_path": "__notebook__.ipynb",
   "output_path": "__notebook__.ipynb",
   "parameters": {},
   "start_time": "2025-06-30T07:30:18.981864",
   "version": "2.6.0"
  }
 },
 "nbformat": 4,
 "nbformat_minor": 5
}
